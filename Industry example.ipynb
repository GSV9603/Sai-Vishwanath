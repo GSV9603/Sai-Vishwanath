{
 "cells": [
  {
   "cell_type": "code",
   "execution_count": 1,
   "id": "3bf00fe5-2da6-4ed5-b62f-e1856dce6084",
   "metadata": {},
   "outputs": [
    {
     "data": {
      "text/plain": [
       "'\\nExample\\n1.Read a long text in to string that contains some punctuation marks also.\\n2.Convert to lower case\\n3.Remove punctuation marks\\n4.Split it in to words using split () function\\n5.Make a dictionary with each unique word as the key and its value being the number of occurances\\n6.Convert the dict to dataframe and print it\\n'"
      ]
     },
     "execution_count": 1,
     "metadata": {},
     "output_type": "execute_result"
    }
   ],
   "source": [
    "\"\"\"\n",
    "Example\n",
    "1.Read a long text in to string that contains some punctuation marks also.\n",
    "2.Convert to lower case\n",
    "3.Remove punctuation marks\n",
    "4.Split it in to words using split () function\n",
    "5.Make a dictionary with each unique word as the key and its value being the number of occurances\n",
    "6.Convert the dict to dataframe and print it\n",
    "\"\"\""
   ]
  },
  {
   "cell_type": "code",
   "execution_count": 2,
   "id": "49920faf-96f2-4833-ac48-2547de8ad2f1",
   "metadata": {},
   "outputs": [
    {
     "name": "stdout",
     "output_type": "stream",
     "text": [
      "According to senior journalist Rajdeep Sardesai in his new book ‘2024: The Election That Surprised India’, before the 2021 assembly polls in West Bengal, the BJP was desperate for a local face who could carry the party’s campaign in the state along with, of course, Prime Minister Narendra Modi. That face was star cricketer Sourav Ganguly.\n"
     ]
    }
   ],
   "source": [
    "import pandas as pd\n",
    "import string\n",
    "\n",
    "text = \"\"\"According to senior journalist Rajdeep Sardesai in his new book ‘2024: The Election That Surprised India’, before the 2021 assembly polls in West Bengal, the BJP was desperate for a local face who could carry the party’s campaign in the state along with, of course, Prime Minister Narendra Modi. That face was star cricketer Sourav Ganguly.\"\"\"\n",
    "print(text)"
   ]
  },
  {
   "cell_type": "code",
   "execution_count": 3,
   "id": "467c6721-6a41-434d-8b92-b5ef3db3e04e",
   "metadata": {},
   "outputs": [
    {
     "data": {
      "text/plain": [
       "'according to senior journalist rajdeep sardesai in his new book ‘2024: the election that surprised india’, before the 2021 assembly polls in west bengal, the bjp was desperate for a local face who could carry the party’s campaign in the state along with, of course, prime minister narendra modi. that face was star cricketer sourav ganguly.'"
      ]
     },
     "execution_count": 3,
     "metadata": {},
     "output_type": "execute_result"
    }
   ],
   "source": [
    "text=text.lower()\n",
    "text"
   ]
  },
  {
   "cell_type": "code",
   "execution_count": 4,
   "id": "aeaf637a-ce24-40b3-afa0-6f2e4bc1f080",
   "metadata": {},
   "outputs": [
    {
     "data": {
      "text/plain": [
       "'according to senior journalist rajdeep sardesai in his new book ‘2024 the election that surprised india’ before the 2021 assembly polls in west bengal the bjp was desperate for a local face who could carry the party’s campaign in the state along with of course prime minister narendra modi that face was star cricketer sourav ganguly'"
      ]
     },
     "execution_count": 4,
     "metadata": {},
     "output_type": "execute_result"
    }
   ],
   "source": [
    "text = text.translate(str.maketrans(\"\",\"\", string.punctuation))\n",
    "text"
   ]
  },
  {
   "cell_type": "code",
   "execution_count": 18,
   "id": "dc2542db-c7b1-4b45-96ad-2b52cf0d606e",
   "metadata": {},
   "outputs": [
    {
     "data": {
      "text/plain": [
       "'Hello, \"How are you?\"'"
      ]
     },
     "execution_count": 18,
     "metadata": {},
     "output_type": "execute_result"
    }
   ],
   "source": [
    "punc_marks = ['\"',',','?']\n",
    "text = 'Hello, \"How are you?\"'\n",
    "text"
   ]
  },
  {
   "cell_type": "code",
   "execution_count": 20,
   "id": "b8f67b7b-df37-4b40-b008-c9d55cf4f4c7",
   "metadata": {},
   "outputs": [
    {
     "data": {
      "text/plain": [
       "'Hello How are you'"
      ]
     },
     "execution_count": 20,
     "metadata": {},
     "output_type": "execute_result"
    }
   ],
   "source": [
    "for symbol in text:\n",
    "    if symbol in punc_marks:\n",
    "        text = text.replace(symbol,\"\")\n",
    "text"
   ]
  },
  {
   "cell_type": "code",
   "execution_count": null,
   "id": "491c9ed9-6f59-45f9-b113-86d0ab797022",
   "metadata": {},
   "outputs": [],
   "source": []
  }
 ],
 "metadata": {
  "kernelspec": {
   "display_name": "Python [conda env:base] *",
   "language": "python",
   "name": "conda-base-py"
  },
  "language_info": {
   "codemirror_mode": {
    "name": "ipython",
    "version": 3
   },
   "file_extension": ".py",
   "mimetype": "text/x-python",
   "name": "python",
   "nbconvert_exporter": "python",
   "pygments_lexer": "ipython3",
   "version": "3.12.7"
  }
 },
 "nbformat": 4,
 "nbformat_minor": 5
}
