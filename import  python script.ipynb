{
 "cells": [
  {
   "cell_type": "code",
   "execution_count": 3,
   "id": "bb1d24ab-33ad-4e10-b03e-2fcc0d24c611",
   "metadata": {},
   "outputs": [],
   "source": [
    "import python_Script"
   ]
  },
  {
   "cell_type": "code",
   "execution_count": 5,
   "id": "18e99622-1242-41f4-a16c-3eff1c74ba9e",
   "metadata": {},
   "outputs": [
    {
     "data": {
      "text/plain": [
       "26.0"
      ]
     },
     "execution_count": 5,
     "metadata": {},
     "output_type": "execute_result"
    }
   ],
   "source": [
    "python_Script.mean_value([10,29,39])"
   ]
  },
  {
   "cell_type": "code",
   "execution_count": 9,
   "id": "823856a0-74f9-4b65-ad9e-f534dcc67053",
   "metadata": {},
   "outputs": [
    {
     "data": {
      "text/plain": [
       "2"
      ]
     },
     "execution_count": 9,
     "metadata": {},
     "output_type": "execute_result"
    }
   ],
   "source": [
    "python_Script.mode([2,4,2,1,3.2,2,1,3,5,5,])"
   ]
  },
  {
   "cell_type": "code",
   "execution_count": null,
   "id": "969125bb-d23a-4fe9-9f72-a25f9394c538",
   "metadata": {},
   "outputs": [],
   "source": []
  }
 ],
 "metadata": {
  "kernelspec": {
   "display_name": "Python [conda env:base] *",
   "language": "python",
   "name": "conda-base-py"
  },
  "language_info": {
   "codemirror_mode": {
    "name": "ipython",
    "version": 3
   },
   "file_extension": ".py",
   "mimetype": "text/x-python",
   "name": "python",
   "nbconvert_exporter": "python",
   "pygments_lexer": "ipython3",
   "version": "3.12.7"
  }
 },
 "nbformat": 4,
 "nbformat_minor": 5
}
