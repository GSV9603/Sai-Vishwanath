{
 "cells": [
  {
   "cell_type": "code",
   "execution_count": 1,
   "id": "26b1c805-eb52-4ab1-8e18-1e37e1810d26",
   "metadata": {},
   "outputs": [],
   "source": [
    "import pandas as pd"
   ]
  },
  {
   "cell_type": "code",
   "execution_count": 5,
   "id": "703a1b0d-7a8f-4f90-86eb-0f685a9ca6ff",
   "metadata": {},
   "outputs": [
    {
     "name": "stdout",
     "output_type": "stream",
     "text": [
      "0    10\n",
      "1    20\n",
      "2    30\n",
      "3    40\n",
      "dtype: int64\n"
     ]
    }
   ],
   "source": [
    "data = [10,20,30,40]\n",
    "series = pd.Series(data)\n",
    "print(series)"
   ]
  },
  {
   "cell_type": "code",
   "execution_count": 7,
   "id": "59e8f671-d260-401a-b7db-1244d464bbd6",
   "metadata": {},
   "outputs": [
    {
     "name": "stdout",
     "output_type": "stream",
     "text": [
      "0    10\n",
      "1    20\n",
      "2    30\n",
      "3     A\n",
      "dtype: object\n"
     ]
    }
   ],
   "source": [
    "data = [10,20,30,\"A\"]\n",
    "series = pd.Series(data)\n",
    "print(series)"
   ]
  },
  {
   "cell_type": "code",
   "execution_count": 9,
   "id": "1d581a51-7960-4bb6-8f01-9db401713cad",
   "metadata": {},
   "outputs": [
    {
     "name": "stdout",
     "output_type": "stream",
     "text": [
      "G.    1\n",
      "S     2\n",
      "A     3\n",
      "I     4\n",
      "dtype: int64\n"
     ]
    }
   ],
   "source": [
    "data = [1,2,3,4]\n",
    "i = [\"G.\",\"S\",\"A\",\"I\"]\n",
    "series = pd.Series(data,index=i)\n",
    "print(series)"
   ]
  },
  {
   "cell_type": "code",
   "execution_count": 13,
   "id": "6942ddc7-fdf3-421f-b09e-13e8dd01a105",
   "metadata": {},
   "outputs": [
    {
     "name": "stdout",
     "output_type": "stream",
     "text": [
      "a    10\n",
      "b    20\n",
      "c    30\n",
      "dtype: int64\n"
     ]
    }
   ],
   "source": [
    "data= {\"a\":10,\"b\":20,\"c\":30}\n",
    "series=pd.Series(data)\n",
    "print(series)"
   ]
  },
  {
   "cell_type": "code",
   "execution_count": 15,
   "id": "0ecadd49-bd58-49ee-b82d-b41b8dcdfe05",
   "metadata": {},
   "outputs": [
    {
     "data": {
      "text/plain": [
       "a    10\n",
       "b    40\n",
       "c    30\n",
       "dtype: int64"
      ]
     },
     "execution_count": 15,
     "metadata": {},
     "output_type": "execute_result"
    }
   ],
   "source": [
    "series.replace(20,40)"
   ]
  },
  {
   "cell_type": "code",
   "execution_count": 19,
   "id": "fc812d34-d99b-401f-b641-e1e437ff6880",
   "metadata": {},
   "outputs": [
    {
     "name": "stdout",
     "output_type": "stream",
     "text": [
      "G    100\n",
      "S    200\n",
      "V    300\n",
      "dtype: int32\n"
     ]
    }
   ],
   "source": [
    "import numpy as np\n",
    "data=np.array([100,200,300])\n",
    "series=pd.Series(data,index=[\"G\",\"S\",\"V\"])\n",
    "print(series)"
   ]
  },
  {
   "cell_type": "code",
   "execution_count": 23,
   "id": "fabc4a8d-e4df-478a-9f24-6cf271632f01",
   "metadata": {},
   "outputs": [
    {
     "name": "stdout",
     "output_type": "stream",
     "text": [
      "      Name  Age Country\n",
      "0  Gowtham   38     USA\n",
      "1    Rahul   28      UK\n",
      "2   Rajesh   47   JAPAN\n"
     ]
    }
   ],
   "source": [
    "import pandas as pd\n",
    "data={\"Name\":[\"Gowtham\",\"Rahul\",\"Rajesh\"],\"Age\":[38,28,47],\"Country\":[\"USA\",\"UK\",\"JAPAN\"]}\n",
    "df=pd.DataFrame(data)\n",
    "print(df)"
   ]
  },
  {
   "cell_type": "code",
   "execution_count": 27,
   "id": "1148b354-03ae-45d8-b436-47f0e527fd1b",
   "metadata": {},
   "outputs": [
    {
     "name": "stdout",
     "output_type": "stream",
     "text": [
      "[[1 2 3]\n",
      " [4 5 6]\n",
      " [7 8 9]]\n",
      "   S  A  I\n",
      "0  1  2  3\n",
      "1  4  5  6\n",
      "2  7  8  9\n"
     ]
    }
   ],
   "source": [
    "import numpy as np\n",
    "array=np.array([[1,2,3],[4,5,6],[7,8,9]])\n",
    "print(array)\n",
    "df=pd.DataFrame(array, columns=[\"S\",\"A\",\"I\"])\n",
    "print(df)"
   ]
  },
  {
   "cell_type": "code",
   "execution_count": null,
   "id": "708e17d0-2eed-486c-9eea-8d69edfcc50c",
   "metadata": {},
   "outputs": [],
   "source": []
  }
 ],
 "metadata": {
  "kernelspec": {
   "display_name": "Python [conda env:base] *",
   "language": "python",
   "name": "conda-base-py"
  },
  "language_info": {
   "codemirror_mode": {
    "name": "ipython",
    "version": 3
   },
   "file_extension": ".py",
   "mimetype": "text/x-python",
   "name": "python",
   "nbconvert_exporter": "python",
   "pygments_lexer": "ipython3",
   "version": "3.12.7"
  }
 },
 "nbformat": 4,
 "nbformat_minor": 5
}
