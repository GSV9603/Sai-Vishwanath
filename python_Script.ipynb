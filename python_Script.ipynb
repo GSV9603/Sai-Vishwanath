{
 "cells": [
  {
   "cell_type": "code",
   "execution_count": 1,
   "id": "73455cb7-c7a3-493a-a943-8a29808908a5",
   "metadata": {},
   "outputs": [
    {
     "data": {
      "text/plain": [
       "11.8"
      ]
     },
     "execution_count": 1,
     "metadata": {},
     "output_type": "execute_result"
    }
   ],
   "source": [
    "def mean_value(given_list):\n",
    "    total=sum(given_list)\n",
    "    average_value=total/len(given_list)\n",
    "    return average_value\n",
    "L=[10,11,12,12,14]\n",
    "mean_value(L)"
   ]
  },
  {
   "cell_type": "code",
   "execution_count": 14,
   "id": "7312ccf1-2425-46b1-b685-8a1fe6ef44b5",
   "metadata": {},
   "outputs": [],
   "source": [
    "def mode(s):\n",
    "     s=set(L)\n",
    "     d={}\n",
    "     for x in s:\n",
    "         d[x]=L.count(x)\n",
    "     m=max(d.values())\n",
    "     for k in d.keys():\n",
    "         if d[k]==m:\n",
    "             return k"
   ]
  },
  {
   "cell_type": "code",
   "execution_count": 18,
   "id": "d610b434-014d-45bc-9466-e2aa16838b73",
   "metadata": {},
   "outputs": [
    {
     "data": {
      "text/plain": [
       "'A'"
      ]
     },
     "execution_count": 18,
     "metadata": {},
     "output_type": "execute_result"
    }
   ],
   "source": [
    "L=[\"S\",\"A\",\"I\",\"S\",\"A\",\"I\",\"A\",\"A\"]\n",
    "mode(L)"
   ]
  },
  {
   "cell_type": "code",
   "execution_count": 20,
   "id": "db5d5b5c-4abc-40c9-a4bc-6d11443fde86",
   "metadata": {},
   "outputs": [
    {
     "data": {
      "text/plain": [
       "2"
      ]
     },
     "execution_count": 20,
     "metadata": {},
     "output_type": "execute_result"
    }
   ],
   "source": [
    "L=[2,4,2,1,3.2,2,1,3,5,5,]\n",
    "mode(L)"
   ]
  },
  {
   "cell_type": "code",
   "execution_count": null,
   "id": "d5b98ae7-241c-4d39-ae88-a1716d8a47d7",
   "metadata": {},
   "outputs": [],
   "source": []
  }
 ],
 "metadata": {
  "kernelspec": {
   "display_name": "Python [conda env:base] *",
   "language": "python",
   "name": "conda-base-py"
  },
  "language_info": {
   "codemirror_mode": {
    "name": "ipython",
    "version": 3
   },
   "file_extension": ".py",
   "mimetype": "text/x-python",
   "name": "python",
   "nbconvert_exporter": "python",
   "pygments_lexer": "ipython3",
   "version": "3.12.7"
  }
 },
 "nbformat": 4,
 "nbformat_minor": 5
}
